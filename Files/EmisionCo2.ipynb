{
 "cells": [
  {
   "cell_type": "code",
   "execution_count": 7,
   "metadata": {},
   "outputs": [],
   "source": [
    "import pandas as pd\n",
    "import numpy as np\n",
    "import matplotlib.pyplot as plt"
   ]
  },
  {
   "cell_type": "code",
   "execution_count": 8,
   "metadata": {},
   "outputs": [],
   "source": [
    "path= pd.read_csv('C:/Users/andre/OneDrive/Escritorio/LenguajesProgramacion/DataAnalyticsPython/Data/co2_emission.csv')\n"
   ]
  },
  {
   "cell_type": "code",
   "execution_count": 9,
   "metadata": {},
   "outputs": [
    {
     "data": {
      "text/html": [
       "<div>\n",
       "<style scoped>\n",
       "    .dataframe tbody tr th:only-of-type {\n",
       "        vertical-align: middle;\n",
       "    }\n",
       "\n",
       "    .dataframe tbody tr th {\n",
       "        vertical-align: top;\n",
       "    }\n",
       "\n",
       "    .dataframe thead th {\n",
       "        text-align: right;\n",
       "    }\n",
       "</style>\n",
       "<table border=\"1\" class=\"dataframe\">\n",
       "  <thead>\n",
       "    <tr style=\"text-align: right;\">\n",
       "      <th></th>\n",
       "      <th>Entity</th>\n",
       "      <th>Code</th>\n",
       "      <th>Year</th>\n",
       "      <th>Annual CO₂ emissions (tonnes )</th>\n",
       "    </tr>\n",
       "  </thead>\n",
       "  <tbody>\n",
       "    <tr>\n",
       "      <th>0</th>\n",
       "      <td>Afghanistan</td>\n",
       "      <td>AFG</td>\n",
       "      <td>1949</td>\n",
       "      <td>14656.00</td>\n",
       "    </tr>\n",
       "    <tr>\n",
       "      <th>1</th>\n",
       "      <td>Afghanistan</td>\n",
       "      <td>AFG</td>\n",
       "      <td>1950</td>\n",
       "      <td>84272.00</td>\n",
       "    </tr>\n",
       "    <tr>\n",
       "      <th>2</th>\n",
       "      <td>Afghanistan</td>\n",
       "      <td>AFG</td>\n",
       "      <td>1951</td>\n",
       "      <td>91600.00</td>\n",
       "    </tr>\n",
       "    <tr>\n",
       "      <th>3</th>\n",
       "      <td>Afghanistan</td>\n",
       "      <td>AFG</td>\n",
       "      <td>1952</td>\n",
       "      <td>91600.00</td>\n",
       "    </tr>\n",
       "    <tr>\n",
       "      <th>4</th>\n",
       "      <td>Afghanistan</td>\n",
       "      <td>AFG</td>\n",
       "      <td>1953</td>\n",
       "      <td>106256.00</td>\n",
       "    </tr>\n",
       "    <tr>\n",
       "      <th>...</th>\n",
       "      <td>...</td>\n",
       "      <td>...</td>\n",
       "      <td>...</td>\n",
       "      <td>...</td>\n",
       "    </tr>\n",
       "    <tr>\n",
       "      <th>20848</th>\n",
       "      <td>Zimbabwe</td>\n",
       "      <td>ZWE</td>\n",
       "      <td>2013</td>\n",
       "      <td>11536239.29</td>\n",
       "    </tr>\n",
       "    <tr>\n",
       "      <th>20849</th>\n",
       "      <td>Zimbabwe</td>\n",
       "      <td>ZWE</td>\n",
       "      <td>2014</td>\n",
       "      <td>11866348.41</td>\n",
       "    </tr>\n",
       "    <tr>\n",
       "      <th>20850</th>\n",
       "      <td>Zimbabwe</td>\n",
       "      <td>ZWE</td>\n",
       "      <td>2015</td>\n",
       "      <td>10907603.94</td>\n",
       "    </tr>\n",
       "    <tr>\n",
       "      <th>20851</th>\n",
       "      <td>Zimbabwe</td>\n",
       "      <td>ZWE</td>\n",
       "      <td>2016</td>\n",
       "      <td>9932649.88</td>\n",
       "    </tr>\n",
       "    <tr>\n",
       "      <th>20852</th>\n",
       "      <td>Zimbabwe</td>\n",
       "      <td>ZWE</td>\n",
       "      <td>2017</td>\n",
       "      <td>10397718.47</td>\n",
       "    </tr>\n",
       "  </tbody>\n",
       "</table>\n",
       "<p>20853 rows × 4 columns</p>\n",
       "</div>"
      ],
      "text/plain": [
       "            Entity Code  Year  Annual CO₂ emissions (tonnes )\n",
       "0      Afghanistan  AFG  1949                        14656.00\n",
       "1      Afghanistan  AFG  1950                        84272.00\n",
       "2      Afghanistan  AFG  1951                        91600.00\n",
       "3      Afghanistan  AFG  1952                        91600.00\n",
       "4      Afghanistan  AFG  1953                       106256.00\n",
       "...            ...  ...   ...                             ...\n",
       "20848     Zimbabwe  ZWE  2013                     11536239.29\n",
       "20849     Zimbabwe  ZWE  2014                     11866348.41\n",
       "20850     Zimbabwe  ZWE  2015                     10907603.94\n",
       "20851     Zimbabwe  ZWE  2016                      9932649.88\n",
       "20852     Zimbabwe  ZWE  2017                     10397718.47\n",
       "\n",
       "[20853 rows x 4 columns]"
      ]
     },
     "execution_count": 9,
     "metadata": {},
     "output_type": "execute_result"
    }
   ],
   "source": [
    "path"
   ]
  },
  {
   "cell_type": "code",
   "execution_count": 10,
   "metadata": {
    "scrolled": true
   },
   "outputs": [
    {
     "name": "stdout",
     "output_type": "stream",
     "text": [
      "<class 'pandas.core.frame.DataFrame'>\n",
      "RangeIndex: 20853 entries, 0 to 20852\n",
      "Data columns (total 4 columns):\n",
      " #   Column                          Non-Null Count  Dtype  \n",
      "---  ------                          --------------  -----  \n",
      " 0   Entity                          20853 non-null  object \n",
      " 1   Code                            18646 non-null  object \n",
      " 2   Year                            20853 non-null  int64  \n",
      " 3   Annual CO₂ emissions (tonnes )  20853 non-null  float64\n",
      "dtypes: float64(1), int64(1), object(2)\n",
      "memory usage: 651.8+ KB\n",
      "None\n"
     ]
    }
   ],
   "source": [
    "print(path.info())"
   ]
  },
  {
   "cell_type": "code",
   "execution_count": 5,
   "metadata": {},
   "outputs": [
    {
     "name": "stdout",
     "output_type": "stream",
     "text": [
      "               Year  Annual CO₂ emissions (tonnes )\n",
      "count  20853.000000                    2.085300e+04\n",
      "mean    1953.339424                    1.930517e+08\n",
      "std       57.903089                    1.345143e+09\n",
      "min     1751.000000                   -6.255223e+08\n",
      "25%     1932.000000                    3.187680e+05\n",
      "50%     1971.000000                    3.828880e+06\n",
      "75%     1995.000000                    3.706898e+07\n",
      "max     2017.000000                    3.615326e+10\n"
     ]
    }
   ],
   "source": [
    "print(path.describe())"
   ]
  },
  {
   "cell_type": "code",
   "execution_count": 6,
   "metadata": {},
   "outputs": [
    {
     "name": "stdout",
     "output_type": "stream",
     "text": [
      "        Entity Code  Year  Annual CO₂ emissions (tonnes )\n",
      "0  Afghanistan  AFG  1949                         14656.0\n",
      "1  Afghanistan  AFG  1950                         84272.0\n",
      "2  Afghanistan  AFG  1951                         91600.0\n",
      "3  Afghanistan  AFG  1952                         91600.0\n",
      "4  Afghanistan  AFG  1953                        106256.0\n"
     ]
    }
   ],
   "source": [
    "print(path.head())"
   ]
  },
  {
   "cell_type": "code",
   "execution_count": 25,
   "metadata": {},
   "outputs": [
    {
     "name": "stdout",
     "output_type": "stream",
     "text": [
      "         Entity Code  Year  Annual CO₂ emissions (tonnes )\n",
      "0   Afghanistan  AFG  1949                        14656.00\n",
      "1   Afghanistan  AFG  1950                        84272.00\n",
      "2   Afghanistan  AFG  1951                        91600.00\n",
      "3   Afghanistan  AFG  1952                        91600.00\n",
      "4   Afghanistan  AFG  1953                       106256.00\n",
      "5   Afghanistan  AFG  1954                       106256.00\n",
      "6   Afghanistan  AFG  1955                       153888.00\n",
      "7   Afghanistan  AFG  1956                       183200.00\n",
      "8   Afghanistan  AFG  1957                       293120.00\n",
      "9   Afghanistan  AFG  1958                       329760.00\n",
      "10  Afghanistan  AFG  1959                       384571.42\n",
      "11  Afghanistan  AFG  1960                       413883.42\n",
      "12  Afghanistan  AFG  1961                       490797.70\n",
      "13  Afghanistan  AFG  1962                       688594.27\n",
      "14  Afghanistan  AFG  1963                       706735.98\n",
      "15  Afghanistan  AFG  1964                       838550.83\n",
      "16  Afghanistan  AFG  1965                      1006916.53\n",
      "17  Afghanistan  AFG  1966                      1091158.82\n",
      "18  Afghanistan  AFG  1967                      1281865.11\n",
      "19  Afghanistan  AFG  1968                      1223389.69\n",
      "20  Afghanistan  AFG  1969                       941231.98\n",
      "21  Afghanistan  AFG  1970                      1670397.69\n",
      "22  Afghanistan  AFG  1971                      1893931.41\n",
      "23  Afghanistan  AFG  1972                      1531165.69\n",
      "24  Afghanistan  AFG  1973                      1637243.40\n",
      "25  Afghanistan  AFG  1974                      1915677.68\n",
      "26  Afghanistan  AFG  1975                      2124525.68\n",
      "27  Afghanistan  AFG  1976                      1984225.38\n",
      "28  Afghanistan  AFG  1977                      2386745.67\n",
      "29  Afghanistan  AFG  1978                      2155419.66\n",
      "30  Afghanistan  AFG  1979                      2234903.94\n",
      "31  Afghanistan  AFG  1980                      1757021.97\n",
      "32  Afghanistan  AFG  1981                      1979372.53\n",
      "33  Afghanistan  AFG  1982                      2095539.37\n",
      "34  Afghanistan  AFG  1983                      2520091.42\n",
      "35  Afghanistan  AFG  1984                      2822415.06\n",
      "36  Afghanistan  AFG  1985                      3501893.65\n",
      "37  Afghanistan  AFG  1986                      3134071.92\n",
      "38  Afghanistan  AFG  1987                      3114159.90\n",
      "39  Afghanistan  AFG  1988                      2857083.90\n",
      "40  Afghanistan  AFG  1989                      2764887.89\n",
      "41  Afghanistan  AFG  1990                      2602407.59\n",
      "42  Afghanistan  AFG  1991                      2426486.16\n",
      "43  Afghanistan  AFG  1992                      1381521.84\n",
      "44  Afghanistan  AFG  1993                      1333837.11\n",
      "45  Afghanistan  AFG  1994                      1282488.38\n",
      "46  Afghanistan  AFG  1995                      1231139.65\n",
      "47  Afghanistan  AFG  1996                      1165134.92\n",
      "48  Afghanistan  AFG  1997                      1084474.19\n",
      "49  Afghanistan  AFG  1998                      1029461.47\n",
      "50  Afghanistan  AFG  1999                       809568.74\n",
      "51  Afghanistan  AFG  2000                       768195.25\n",
      "52  Afghanistan  AFG  2001                       812074.37\n",
      "53  Afghanistan  AFG  2002                      1064074.85\n",
      "54  Afghanistan  AFG  2003                      1187070.59\n",
      "55  Afghanistan  AFG  2004                       941455.62\n",
      "56  Afghanistan  AFG  2005                      1320250.12\n",
      "57  Afghanistan  AFG  2006                      1643246.00\n",
      "58  Afghanistan  AFG  2007                      2268343.10\n",
      "59  Afghanistan  AFG  2008                      4198329.64\n"
     ]
    }
   ],
   "source": [
    "print(path.iloc[0:60])"
   ]
  },
  {
   "cell_type": "code",
   "execution_count": null,
   "metadata": {},
   "outputs": [],
   "source": []
  },
  {
   "cell_type": "code",
   "execution_count": null,
   "metadata": {},
   "outputs": [],
   "source": []
  }
 ],
 "metadata": {
  "kernelspec": {
   "display_name": "Python 3",
   "language": "python",
   "name": "python3"
  },
  "language_info": {
   "codemirror_mode": {
    "name": "ipython",
    "version": 3
   },
   "file_extension": ".py",
   "mimetype": "text/x-python",
   "name": "python",
   "nbconvert_exporter": "python",
   "pygments_lexer": "ipython3",
   "version": "3.8.3"
  }
 },
 "nbformat": 4,
 "nbformat_minor": 4
}
